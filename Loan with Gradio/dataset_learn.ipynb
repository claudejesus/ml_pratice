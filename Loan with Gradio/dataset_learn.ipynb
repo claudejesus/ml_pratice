{
 "cells": [
  {
   "cell_type": "code",
   "execution_count": 1,
   "id": "7a7e454b-ee60-4411-8e4f-58f83aaefeba",
   "metadata": {},
   "outputs": [],
   "source": [
    "import pandas as pd\n",
    "import numpy as np\n",
    "import matplotlib.pyplot as plt\n",
    "import seaborn as sns\n",
    "from sklearn.impute import SimpleImputer\n",
    "from sklearn.compose import ColumnTransformer\n",
    "from sklearn.preprocessing import OneHotEncoder\n",
    "from sklearn.preprocessing import LabelEncoder\n",
    "from sklearn.model_selection import train_test_split\n",
    "from sklearn.preprocessing import StandardScaler"
   ]
  },
  {
   "cell_type": "code",
   "execution_count": 2,
   "id": "f375c2ef-775a-49fa-b5c9-a0ec31224dbf",
   "metadata": {},
   "outputs": [
    {
     "name": "stdout",
     "output_type": "stream",
     "text": [
      "2.2.2\n"
     ]
    }
   ],
   "source": [
    "print(pd.__version__)"
   ]
  },
  {
   "cell_type": "code",
   "execution_count": 16,
   "id": "156e3803-5989-4c79-95f2-d35b25029964",
   "metadata": {},
   "outputs": [
    {
     "data": {
      "text/html": [
       "<div>\n",
       "<style scoped>\n",
       "    .dataframe tbody tr th:only-of-type {\n",
       "        vertical-align: middle;\n",
       "    }\n",
       "\n",
       "    .dataframe tbody tr th {\n",
       "        vertical-align: top;\n",
       "    }\n",
       "\n",
       "    .dataframe thead th {\n",
       "        text-align: right;\n",
       "    }\n",
       "</style>\n",
       "<table border=\"1\" class=\"dataframe\">\n",
       "  <thead>\n",
       "    <tr style=\"text-align: right;\">\n",
       "      <th></th>\n",
       "      <th>Age</th>\n",
       "      <th>Salary</th>\n",
       "      <th>Education</th>\n",
       "      <th>Capital</th>\n",
       "      <th>Loan</th>\n",
       "    </tr>\n",
       "  </thead>\n",
       "  <tbody>\n",
       "    <tr>\n",
       "      <th>0</th>\n",
       "      <td>19</td>\n",
       "      <td>19000</td>\n",
       "      <td>0</td>\n",
       "      <td>2</td>\n",
       "      <td>0</td>\n",
       "    </tr>\n",
       "    <tr>\n",
       "      <th>1</th>\n",
       "      <td>35</td>\n",
       "      <td>20000</td>\n",
       "      <td>0</td>\n",
       "      <td>2</td>\n",
       "      <td>0</td>\n",
       "    </tr>\n",
       "    <tr>\n",
       "      <th>2</th>\n",
       "      <td>26</td>\n",
       "      <td>43000</td>\n",
       "      <td>0</td>\n",
       "      <td>0</td>\n",
       "      <td>0</td>\n",
       "    </tr>\n",
       "    <tr>\n",
       "      <th>3</th>\n",
       "      <td>27</td>\n",
       "      <td>57000</td>\n",
       "      <td>0</td>\n",
       "      <td>0</td>\n",
       "      <td>0</td>\n",
       "    </tr>\n",
       "    <tr>\n",
       "      <th>4</th>\n",
       "      <td>19</td>\n",
       "      <td>76000</td>\n",
       "      <td>1</td>\n",
       "      <td>0</td>\n",
       "      <td>0</td>\n",
       "    </tr>\n",
       "  </tbody>\n",
       "</table>\n",
       "</div>"
      ],
      "text/plain": [
       "   Age  Salary  Education  Capital  Loan\n",
       "0   19   19000          0        2     0\n",
       "1   35   20000          0        2     0\n",
       "2   26   43000          0        0     0\n",
       "3   27   57000          0        0     0\n",
       "4   19   76000          1        0     0"
      ]
     },
     "execution_count": 16,
     "metadata": {},
     "output_type": "execute_result"
    }
   ],
   "source": [
    "dataset= pd.read_csv('Loan_application.csv')\n",
    "# or \n",
    "path= r'C:\\Users\\user\\Documents\\B-TECH\\ML\\Loan with Gradio\\Loan_application.csv'\n",
    "data= pd.read_csv(path)\n",
    "data.head()"
   ]
  },
  {
   "cell_type": "code",
   "execution_count": 14,
   "id": "fa066bee-3b61-4c44-9113-f3779f25245a",
   "metadata": {},
   "outputs": [
    {
     "data": {
      "text/html": [
       "<div>\n",
       "<style scoped>\n",
       "    .dataframe tbody tr th:only-of-type {\n",
       "        vertical-align: middle;\n",
       "    }\n",
       "\n",
       "    .dataframe tbody tr th {\n",
       "        vertical-align: top;\n",
       "    }\n",
       "\n",
       "    .dataframe thead th {\n",
       "        text-align: right;\n",
       "    }\n",
       "</style>\n",
       "<table border=\"1\" class=\"dataframe\">\n",
       "  <thead>\n",
       "    <tr style=\"text-align: right;\">\n",
       "      <th></th>\n",
       "      <th>Age</th>\n",
       "      <th>Salary</th>\n",
       "      <th>Education</th>\n",
       "      <th>Capital</th>\n",
       "      <th>Loan</th>\n",
       "    </tr>\n",
       "  </thead>\n",
       "  <tbody>\n",
       "    <tr>\n",
       "      <th>count</th>\n",
       "      <td>400.000000</td>\n",
       "      <td>400.00000</td>\n",
       "      <td>400.000000</td>\n",
       "      <td>400.000000</td>\n",
       "      <td>400.0000</td>\n",
       "    </tr>\n",
       "    <tr>\n",
       "      <th>mean</th>\n",
       "      <td>39.490000</td>\n",
       "      <td>69650.00000</td>\n",
       "      <td>0.595000</td>\n",
       "      <td>1.920000</td>\n",
       "      <td>0.4375</td>\n",
       "    </tr>\n",
       "    <tr>\n",
       "      <th>std</th>\n",
       "      <td>11.479955</td>\n",
       "      <td>34119.24394</td>\n",
       "      <td>0.491507</td>\n",
       "      <td>1.355801</td>\n",
       "      <td>0.4967</td>\n",
       "    </tr>\n",
       "    <tr>\n",
       "      <th>min</th>\n",
       "      <td>18.000000</td>\n",
       "      <td>15000.00000</td>\n",
       "      <td>0.000000</td>\n",
       "      <td>0.000000</td>\n",
       "      <td>0.0000</td>\n",
       "    </tr>\n",
       "    <tr>\n",
       "      <th>25%</th>\n",
       "      <td>31.000000</td>\n",
       "      <td>43000.00000</td>\n",
       "      <td>0.000000</td>\n",
       "      <td>1.000000</td>\n",
       "      <td>0.0000</td>\n",
       "    </tr>\n",
       "    <tr>\n",
       "      <th>50%</th>\n",
       "      <td>38.000000</td>\n",
       "      <td>69500.00000</td>\n",
       "      <td>1.000000</td>\n",
       "      <td>2.000000</td>\n",
       "      <td>0.0000</td>\n",
       "    </tr>\n",
       "    <tr>\n",
       "      <th>75%</th>\n",
       "      <td>47.000000</td>\n",
       "      <td>88000.00000</td>\n",
       "      <td>1.000000</td>\n",
       "      <td>3.000000</td>\n",
       "      <td>1.0000</td>\n",
       "    </tr>\n",
       "    <tr>\n",
       "      <th>max</th>\n",
       "      <td>76.000000</td>\n",
       "      <td>150000.00000</td>\n",
       "      <td>1.000000</td>\n",
       "      <td>4.000000</td>\n",
       "      <td>1.0000</td>\n",
       "    </tr>\n",
       "  </tbody>\n",
       "</table>\n",
       "</div>"
      ],
      "text/plain": [
       "              Age        Salary   Education     Capital      Loan\n",
       "count  400.000000     400.00000  400.000000  400.000000  400.0000\n",
       "mean    39.490000   69650.00000    0.595000    1.920000    0.4375\n",
       "std     11.479955   34119.24394    0.491507    1.355801    0.4967\n",
       "min     18.000000   15000.00000    0.000000    0.000000    0.0000\n",
       "25%     31.000000   43000.00000    0.000000    1.000000    0.0000\n",
       "50%     38.000000   69500.00000    1.000000    2.000000    0.0000\n",
       "75%     47.000000   88000.00000    1.000000    3.000000    1.0000\n",
       "max     76.000000  150000.00000    1.000000    4.000000    1.0000"
      ]
     },
     "execution_count": 14,
     "metadata": {},
     "output_type": "execute_result"
    }
   ],
   "source": [
    "data.describe()"
   ]
  },
  {
   "cell_type": "code",
   "execution_count": 4,
   "id": "20906e6a-b647-4a81-9af5-285b52030ee1",
   "metadata": {},
   "outputs": [
    {
     "data": {
      "text/html": [
       "<div>\n",
       "<style scoped>\n",
       "    .dataframe tbody tr th:only-of-type {\n",
       "        vertical-align: middle;\n",
       "    }\n",
       "\n",
       "    .dataframe tbody tr th {\n",
       "        vertical-align: top;\n",
       "    }\n",
       "\n",
       "    .dataframe thead th {\n",
       "        text-align: right;\n",
       "    }\n",
       "</style>\n",
       "<table border=\"1\" class=\"dataframe\">\n",
       "  <thead>\n",
       "    <tr style=\"text-align: right;\">\n",
       "      <th></th>\n",
       "      <th>Age</th>\n",
       "      <th>Salary</th>\n",
       "      <th>Education</th>\n",
       "      <th>Capital</th>\n",
       "      <th>Loan</th>\n",
       "    </tr>\n",
       "  </thead>\n",
       "  <tbody>\n",
       "    <tr>\n",
       "      <th>0</th>\n",
       "      <td>19</td>\n",
       "      <td>19000</td>\n",
       "      <td>0</td>\n",
       "      <td>2</td>\n",
       "      <td>0</td>\n",
       "    </tr>\n",
       "    <tr>\n",
       "      <th>1</th>\n",
       "      <td>35</td>\n",
       "      <td>20000</td>\n",
       "      <td>0</td>\n",
       "      <td>2</td>\n",
       "      <td>0</td>\n",
       "    </tr>\n",
       "    <tr>\n",
       "      <th>2</th>\n",
       "      <td>26</td>\n",
       "      <td>43000</td>\n",
       "      <td>0</td>\n",
       "      <td>0</td>\n",
       "      <td>0</td>\n",
       "    </tr>\n",
       "    <tr>\n",
       "      <th>3</th>\n",
       "      <td>27</td>\n",
       "      <td>57000</td>\n",
       "      <td>0</td>\n",
       "      <td>0</td>\n",
       "      <td>0</td>\n",
       "    </tr>\n",
       "    <tr>\n",
       "      <th>4</th>\n",
       "      <td>19</td>\n",
       "      <td>76000</td>\n",
       "      <td>1</td>\n",
       "      <td>0</td>\n",
       "      <td>0</td>\n",
       "    </tr>\n",
       "  </tbody>\n",
       "</table>\n",
       "</div>"
      ],
      "text/plain": [
       "   Age  Salary  Education  Capital  Loan\n",
       "0   19   19000          0        2     0\n",
       "1   35   20000          0        2     0\n",
       "2   26   43000          0        0     0\n",
       "3   27   57000          0        0     0\n",
       "4   19   76000          1        0     0"
      ]
     },
     "execution_count": 4,
     "metadata": {},
     "output_type": "execute_result"
    }
   ],
   "source": [
    "dataset.head()"
   ]
  },
  {
   "cell_type": "code",
   "execution_count": 8,
   "id": "cc2bc31e-6ce6-4fc2-b646-da48c20a1cea",
   "metadata": {},
   "outputs": [
    {
     "data": {
      "text/plain": [
       "<bound method NDFrame.tail of      Age  Salary  Education  Capital  Loan\n",
       "0     19   19000          0        2     0\n",
       "1     35   20000          0        2     0\n",
       "2     26   43000          0        0     0\n",
       "3     27   57000          0        0     0\n",
       "4     19   76000          1        0     0\n",
       "..   ...     ...        ...      ...   ...\n",
       "395   46   41000          1        3     0\n",
       "396   51   23000          0        4     0\n",
       "397   50   20000          0        3     0\n",
       "398   36   33000          0        0     0\n",
       "399   49   36000          1        1     0\n",
       "\n",
       "[400 rows x 5 columns]>"
      ]
     },
     "execution_count": 8,
     "metadata": {},
     "output_type": "execute_result"
    }
   ],
   "source": [
    "dataset.tail"
   ]
  },
  {
   "cell_type": "code",
   "execution_count": 9,
   "id": "2a3d2554-8716-4d0a-835a-10ff068e3ad1",
   "metadata": {},
   "outputs": [
    {
     "data": {
      "text/plain": [
       "(400, 5)"
      ]
     },
     "execution_count": 9,
     "metadata": {},
     "output_type": "execute_result"
    }
   ],
   "source": [
    "dataset.shape"
   ]
  },
  {
   "cell_type": "code",
   "execution_count": 10,
   "id": "4fb556e1-9644-41e8-b55c-6693b9292711",
   "metadata": {},
   "outputs": [
    {
     "data": {
      "text/html": [
       "<div>\n",
       "<style scoped>\n",
       "    .dataframe tbody tr th:only-of-type {\n",
       "        vertical-align: middle;\n",
       "    }\n",
       "\n",
       "    .dataframe tbody tr th {\n",
       "        vertical-align: top;\n",
       "    }\n",
       "\n",
       "    .dataframe thead th {\n",
       "        text-align: right;\n",
       "    }\n",
       "</style>\n",
       "<table border=\"1\" class=\"dataframe\">\n",
       "  <thead>\n",
       "    <tr style=\"text-align: right;\">\n",
       "      <th></th>\n",
       "      <th>Age</th>\n",
       "      <th>Salary</th>\n",
       "      <th>Education</th>\n",
       "      <th>Capital</th>\n",
       "      <th>Loan</th>\n",
       "    </tr>\n",
       "  </thead>\n",
       "  <tbody>\n",
       "    <tr>\n",
       "      <th>0</th>\n",
       "      <td>False</td>\n",
       "      <td>False</td>\n",
       "      <td>False</td>\n",
       "      <td>False</td>\n",
       "      <td>False</td>\n",
       "    </tr>\n",
       "    <tr>\n",
       "      <th>1</th>\n",
       "      <td>False</td>\n",
       "      <td>False</td>\n",
       "      <td>False</td>\n",
       "      <td>False</td>\n",
       "      <td>False</td>\n",
       "    </tr>\n",
       "    <tr>\n",
       "      <th>2</th>\n",
       "      <td>False</td>\n",
       "      <td>False</td>\n",
       "      <td>False</td>\n",
       "      <td>False</td>\n",
       "      <td>False</td>\n",
       "    </tr>\n",
       "    <tr>\n",
       "      <th>3</th>\n",
       "      <td>False</td>\n",
       "      <td>False</td>\n",
       "      <td>False</td>\n",
       "      <td>False</td>\n",
       "      <td>False</td>\n",
       "    </tr>\n",
       "    <tr>\n",
       "      <th>4</th>\n",
       "      <td>False</td>\n",
       "      <td>False</td>\n",
       "      <td>False</td>\n",
       "      <td>False</td>\n",
       "      <td>False</td>\n",
       "    </tr>\n",
       "    <tr>\n",
       "      <th>...</th>\n",
       "      <td>...</td>\n",
       "      <td>...</td>\n",
       "      <td>...</td>\n",
       "      <td>...</td>\n",
       "      <td>...</td>\n",
       "    </tr>\n",
       "    <tr>\n",
       "      <th>395</th>\n",
       "      <td>False</td>\n",
       "      <td>False</td>\n",
       "      <td>False</td>\n",
       "      <td>False</td>\n",
       "      <td>False</td>\n",
       "    </tr>\n",
       "    <tr>\n",
       "      <th>396</th>\n",
       "      <td>False</td>\n",
       "      <td>False</td>\n",
       "      <td>False</td>\n",
       "      <td>False</td>\n",
       "      <td>False</td>\n",
       "    </tr>\n",
       "    <tr>\n",
       "      <th>397</th>\n",
       "      <td>False</td>\n",
       "      <td>False</td>\n",
       "      <td>False</td>\n",
       "      <td>False</td>\n",
       "      <td>False</td>\n",
       "    </tr>\n",
       "    <tr>\n",
       "      <th>398</th>\n",
       "      <td>False</td>\n",
       "      <td>False</td>\n",
       "      <td>False</td>\n",
       "      <td>False</td>\n",
       "      <td>False</td>\n",
       "    </tr>\n",
       "    <tr>\n",
       "      <th>399</th>\n",
       "      <td>False</td>\n",
       "      <td>False</td>\n",
       "      <td>False</td>\n",
       "      <td>False</td>\n",
       "      <td>False</td>\n",
       "    </tr>\n",
       "  </tbody>\n",
       "</table>\n",
       "<p>400 rows × 5 columns</p>\n",
       "</div>"
      ],
      "text/plain": [
       "       Age  Salary  Education  Capital   Loan\n",
       "0    False   False      False    False  False\n",
       "1    False   False      False    False  False\n",
       "2    False   False      False    False  False\n",
       "3    False   False      False    False  False\n",
       "4    False   False      False    False  False\n",
       "..     ...     ...        ...      ...    ...\n",
       "395  False   False      False    False  False\n",
       "396  False   False      False    False  False\n",
       "397  False   False      False    False  False\n",
       "398  False   False      False    False  False\n",
       "399  False   False      False    False  False\n",
       "\n",
       "[400 rows x 5 columns]"
      ]
     },
     "execution_count": 10,
     "metadata": {},
     "output_type": "execute_result"
    }
   ],
   "source": [
    "dataset.isnull()"
   ]
  },
  {
   "cell_type": "code",
   "execution_count": 18,
   "id": "7844f778-1e67-4a4a-9b23-a04fad41a9a9",
   "metadata": {},
   "outputs": [
    {
     "data": {
      "text/plain": [
       "Age          0\n",
       "Salary       0\n",
       "Education    0\n",
       "Capital      0\n",
       "Loan         0\n",
       "dtype: int64"
      ]
     },
     "execution_count": 18,
     "metadata": {},
     "output_type": "execute_result"
    }
   ],
   "source": [
    "dataset.isnull().sum()"
   ]
  },
  {
   "cell_type": "code",
   "execution_count": 17,
   "id": "aeef6add-caf6-40ff-bf8a-0c7e238024a0",
   "metadata": {},
   "outputs": [
    {
     "name": "stdout",
     "output_type": "stream",
     "text": [
      "<class 'pandas.core.frame.DataFrame'>\n",
      "RangeIndex: 400 entries, 0 to 399\n",
      "Data columns (total 5 columns):\n",
      " #   Column     Non-Null Count  Dtype\n",
      "---  ------     --------------  -----\n",
      " 0   Age        400 non-null    int64\n",
      " 1   Salary     400 non-null    int64\n",
      " 2   Education  400 non-null    int64\n",
      " 3   Capital    400 non-null    int64\n",
      " 4   Loan       400 non-null    int64\n",
      "dtypes: int64(5)\n",
      "memory usage: 15.8 KB\n"
     ]
    }
   ],
   "source": [
    "data.info()"
   ]
  },
  {
   "cell_type": "code",
   "execution_count": 22,
   "id": "60310fce-147a-4380-ae29-5b7b986fd86a",
   "metadata": {},
   "outputs": [],
   "source": [
    "# x is dependent y is independent\n",
    "\n",
    "x= data[['Age', 'Salary', 'Education', 'Capital']]\n",
    "y= data[[ 'Loan']]"
   ]
  },
  {
   "cell_type": "code",
   "execution_count": 20,
   "id": "c03645c1-05ca-47d9-a727-89a54a3235b5",
   "metadata": {},
   "outputs": [
    {
     "name": "stdout",
     "output_type": "stream",
     "text": [
      "     Age  Salary  Education  Capital\n",
      "0     19   19000          0        2\n",
      "1     35   20000          0        2\n",
      "2     26   43000          0        0\n",
      "3     27   57000          0        0\n",
      "4     19   76000          1        0\n",
      "..   ...     ...        ...      ...\n",
      "395   46   41000          1        3\n",
      "396   51   23000          0        4\n",
      "397   50   20000          0        3\n",
      "398   36   33000          0        0\n",
      "399   49   36000          1        1\n",
      "\n",
      "[400 rows x 4 columns]\n"
     ]
    }
   ],
   "source": [
    "print(x)"
   ]
  },
  {
   "cell_type": "code",
   "execution_count": 21,
   "id": "46ad4e66-db1f-474c-875a-f61aae168a11",
   "metadata": {},
   "outputs": [
    {
     "name": "stdout",
     "output_type": "stream",
     "text": [
      "     Loan\n",
      "0       0\n",
      "1       0\n",
      "2       0\n",
      "3       0\n",
      "4       0\n",
      "..    ...\n",
      "395     0\n",
      "396     0\n",
      "397     0\n",
      "398     0\n",
      "399     0\n",
      "\n",
      "[400 rows x 1 columns]\n"
     ]
    }
   ],
   "source": [
    "print(y)"
   ]
  },
  {
   "cell_type": "code",
   "execution_count": 26,
   "id": "d3a88387-e34b-48f7-a831-99ffaa9f3ddd",
   "metadata": {},
   "outputs": [],
   "source": [
    "x_train, x_test, y_train, y_test = train_test_split(x,y, test_size=0.2, random_state=9)"
   ]
  },
  {
   "cell_type": "code",
   "execution_count": 49,
   "id": "1e43a1ea-92d6-404b-a6cd-9aea03046893",
   "metadata": {},
   "outputs": [
    {
     "name": "stdout",
     "output_type": "stream",
     "text": [
      "[[-0.99184151  0.41122781  0.8325393   0.06547205]\n",
      " [-1.59887019  0.05866813  0.8325393  -1.43103191]\n",
      " [-0.03793929  0.02928816 -1.20114449  0.06547205]\n",
      " ...\n",
      " [ 0.22221586 -0.14699168 -1.20114449  0.06547205]\n",
      " [-0.03793929  0.205568    0.8325393  -0.68277993]\n",
      " [ 0.39565262  2.02712635  0.8325393   0.06547205]]\n",
      "[[-9.91841510e-01  2.64327947e-01  8.32539304e-01 -1.43103191e+00]\n",
      " [-1.59887019e+00 -1.58661037e+00 -1.20114449e+00  6.54720482e-02]\n",
      " [ 4.82371008e-01 -1.29281064e+00 -1.20114449e+00  8.13724028e-01]\n",
      " [-3.84812826e-01  2.92881609e-02 -1.20114449e+00  8.13724028e-01]\n",
      " [-1.16527828e+00 -7.93351092e-01 -1.20114449e+00 -1.43103191e+00]\n",
      " [ 5.69089391e-01 -1.23405069e+00 -1.20114449e+00 -1.43103191e+00]\n",
      " [ 4.87790907e-02  1.46808054e-01  8.32539304e-01  8.13724028e-01]\n",
      " [-3.84812826e-01  8.80481075e-02  8.32539304e-01  1.56197601e+00]\n",
      " [ 6.55807775e-01  2.17402621e+00  8.32539304e-01  8.13724028e-01]\n",
      " [ 5.69089391e-01  1.17428081e-01  8.32539304e-01  6.54720482e-02]\n",
      " [ 1.34955484e+00  1.76270659e+00  8.32539304e-01 -6.82779932e-01]\n",
      " [-1.33871504e+00 -4.40791412e-01  8.32539304e-01 -6.82779932e-01]\n",
      " [-1.24657676e-01  2.93707921e-01  8.32539304e-01 -1.43103191e+00]\n",
      " [ 9.15962925e-01 -9.99010905e-01 -1.20114449e+00 -6.82779932e-01]\n",
      " [ 2.30345706e+00 -1.02839088e+00 -1.20114449e+00  1.56197601e+00]\n",
      " [ 1.17611807e+00  5.86681342e-02  8.32539304e-01 -6.82779932e-01]\n",
      " [-8.18404743e-01  4.99367734e-01  8.32539304e-01  1.56197601e+00]\n",
      " [ 4.87790907e-02 -2.64511572e-01  8.32539304e-01  8.13724028e-01]\n",
      " [ 2.39017544e+00 -1.23405069e+00 -1.20114449e+00  6.54720482e-02]\n",
      " [-3.79392927e-02  7.63787494e-01  8.32539304e-01 -1.43103191e+00]\n",
      " [-1.51215181e+00  3.23087894e-01  8.32539304e-01  8.13724028e-01]\n",
      " [-1.68558858e+00 -1.38095056e+00 -1.20114449e+00  6.54720482e-02]\n",
      " [-3.79392927e-02  2.64327947e-01  8.32539304e-01 -1.43103191e+00]\n",
      " [-2.11376060e-01  2.93707921e-01  8.32539304e-01 -6.82779932e-01]\n",
      " [ 2.22215857e-01 -9.18124166e-05 -1.20114449e+00  6.54720482e-02]\n",
      " [ 2.22215857e-01  5.87507654e-01  8.32539304e-01 -1.43103191e+00]\n",
      " [-7.31686360e-01  2.92881609e-02 -1.20114449e+00  1.56197601e+00]\n",
      " [-3.84812826e-01 -3.82031466e-01  8.32539304e-01  6.54720482e-02]\n",
      " [ 1.34955484e+00 -9.10870985e-01 -1.20114449e+00 -6.82779932e-01]\n",
      " [-1.07855989e+00 -4.70171385e-01  8.32539304e-01 -1.43103191e+00]\n",
      " [ 1.08939969e+00  2.35030605e+00  8.32539304e-01  1.56197601e+00]\n",
      " [-3.84812826e-01 -9.10870985e-01 -1.20114449e+00  1.56197601e+00]\n",
      " [ 8.29244541e-01  4.69987761e-01  8.32539304e-01  8.13724028e-01]\n",
      " [-6.44967977e-01 -1.52785042e+00 -1.20114449e+00  1.56197601e+00]\n",
      " [-3.84812826e-01 -7.63971119e-01 -1.20114449e+00  6.54720482e-02]\n",
      " [-1.16527828e+00 -1.58661037e+00 -1.20114449e+00  1.56197601e+00]\n",
      " [ 2.22215857e-01  2.93707921e-01  8.32539304e-01  8.13724028e-01]\n",
      " [ 4.82371008e-01 -1.41033053e+00 -1.20114449e+00 -6.82779932e-01]\n",
      " [ 1.34955484e+00 -7.93351092e-01 -1.20114449e+00 -1.43103191e+00]\n",
      " [ 1.78314676e+00 -8.22731065e-01  8.32539304e-01  8.13724028e-01]\n",
      " [ 1.17611807e+00 -1.05777085e+00 -1.20114449e+00  8.13724028e-01]\n",
      " [-3.84812826e-01 -5.87691279e-01 -1.20114449e+00  6.54720482e-02]\n",
      " [ 1.17611807e+00  9.98827280e-01  8.32539304e-01 -1.43103191e+00]\n",
      " [ 1.35497474e-01 -5.28931332e-01  8.32539304e-01  6.54720482e-02]\n",
      " [-1.07855989e+00  1.96836640e+00  8.32539304e-01  8.13724028e-01]\n",
      " [ 1.08939969e+00  1.29262701e+00  8.32539304e-01 -1.43103191e+00]\n",
      " [-1.07855989e+00 -1.14591077e+00 -1.20114449e+00 -6.82779932e-01]\n",
      " [-9.91841510e-01 -9.69630932e-01 -1.20114449e+00  6.54720482e-02]\n",
      " [-3.79392927e-02  8.80481075e-02  8.32539304e-01  8.13724028e-01]\n",
      " [ 7.42526158e-01  1.79208656e+00  8.32539304e-01  8.13724028e-01]\n",
      " [ 1.35497474e-01 -2.05751626e-01  8.32539304e-01  1.56197601e+00]\n",
      " [-6.44967977e-01  1.90960645e+00  8.32539304e-01  8.13724028e-01]\n",
      " [-9.91841510e-01  1.55704677e+00  8.32539304e-01 -6.82779932e-01]\n",
      " [-6.44967977e-01  8.81307387e-01  8.32539304e-01  6.54720482e-02]\n",
      " [ 6.55807775e-01 -5.87691279e-01  8.32539304e-01 -6.82779932e-01]\n",
      " [-2.11376060e-01 -1.08715083e+00 -1.20114449e+00 -1.43103191e+00]\n",
      " [ 2.39017544e+00 -1.32219061e+00 -1.20114449e+00  8.13724028e-01]\n",
      " [-1.33871504e+00 -1.26343067e+00 -1.20114449e+00  8.13724028e-01]\n",
      " [ 5.69089391e-01  1.38076693e+00  8.32539304e-01  8.13724028e-01]\n",
      " [-7.31686360e-01 -5.88517591e-02  8.32539304e-01  1.56197601e+00]\n",
      " [ 1.34955484e+00 -3.23271519e-01 -1.20114449e+00  6.54720482e-02]\n",
      " [-3.84812826e-01  1.11634717e+00  8.32539304e-01  1.56197601e+00]\n",
      " [-1.51215181e+00 -4.40791412e-01 -1.20114449e+00 -6.82779932e-01]\n",
      " [-1.77230696e+00  1.76188027e-01  8.32539304e-01 -1.43103191e+00]\n",
      " [-3.79392927e-02 -8.22731065e-01 -1.20114449e+00 -1.43103191e+00]\n",
      " [-6.44967977e-01 -1.52785042e+00 -1.20114449e+00 -6.82779932e-01]\n",
      " [ 1.08939969e+00  5.87507654e-01  8.32539304e-01  1.56197601e+00]\n",
      " [-5.58249593e-01 -1.23405069e+00 -1.20114449e+00 -1.43103191e+00]\n",
      " [-9.91841510e-01 -1.11653080e+00 -1.20114449e+00  1.56197601e+00]\n",
      " [ 8.29244541e-01  5.58127681e-01  8.32539304e-01 -6.82779932e-01]\n",
      " [-8.18404743e-01  2.93707921e-01  8.32539304e-01  6.54720482e-02]\n",
      " [ 1.26283646e+00 -9.18124166e-05  8.32539304e-01 -6.82779932e-01]\n",
      " [ 6.55807775e-01 -6.17071252e-01  8.32539304e-01  1.56197601e+00]\n",
      " [ 4.82371008e-01  1.79208656e+00  8.32539304e-01 -1.43103191e+00]\n",
      " [ 4.87790907e-02  2.34947974e-01  8.32539304e-01  6.54720482e-02]\n",
      " [-2.98094443e-01 -2.93891546e-01  8.32539304e-01 -6.82779932e-01]\n",
      " [-2.98094443e-01  8.51927414e-01  8.32539304e-01  8.13724028e-01]\n",
      " [ 4.87790907e-02  1.08696720e+00  8.32539304e-01  8.13724028e-01]\n",
      " [ 6.55807775e-01  1.26324704e+00  8.32539304e-01 -1.43103191e+00]\n",
      " [-2.11376060e-01  2.34947974e-01  8.32539304e-01 -1.43103191e+00]]\n"
     ]
    }
   ],
   "source": [
    "# ss = Stafrom sklearn.preprocessing import StandardScaler\n",
    "\n",
    "scaler = StandardScaler()\n",
    "\n",
    "x_train = scaler.fit_transform(x_train)\n",
    "\n",
    "x_test = scaler.transform(x_test)\n",
    "print(x_train)\n",
    "print(x_test)"
   ]
  },
  {
   "cell_type": "code",
   "execution_count": 51,
   "id": "355f570c-d8e7-4553-816f-44fa16017f36",
   "metadata": {},
   "outputs": [],
   "source": [
    "ss = StandardScaler()\n",
    "x_train[[0, 1]] = ss.fit_transform(x_train[[0, 1]])\n",
    "x_test[[0, 1]] = ss.transform(x_test[[0, 1]])\n",
    "\n",
    "# x_test.shape()\n",
    "# x_train.shape()"
   ]
  },
  {
   "cell_type": "code",
   "execution_count": 52,
   "id": "da187019-b7a0-45b2-9eba-4300f395534f",
   "metadata": {},
   "outputs": [
    {
     "name": "stdout",
     "output_type": "stream",
     "text": [
      "[[ 1.          1.          0.          1.        ]\n",
      " [-1.         -1.          0.         -1.        ]\n",
      " [-0.03793929  0.02928816 -1.20114449  0.06547205]\n",
      " ...\n",
      " [ 0.22221586 -0.14699168 -1.20114449  0.06547205]\n",
      " [-0.03793929  0.205568    0.8325393  -0.68277993]\n",
      " [ 0.39565262  2.02712635  0.8325393   0.06547205]]\n"
     ]
    }
   ],
   "source": [
    "print(x_train)"
   ]
  },
  {
   "cell_type": "code",
   "execution_count": null,
   "id": "e9addb07-61d2-4841-ac1c-76a7ff3c134a",
   "metadata": {},
   "outputs": [],
   "source": []
  }
 ],
 "metadata": {
  "kernelspec": {
   "display_name": "Python 3 (ipykernel)",
   "language": "python",
   "name": "python3"
  },
  "language_info": {
   "codemirror_mode": {
    "name": "ipython",
    "version": 3
   },
   "file_extension": ".py",
   "mimetype": "text/x-python",
   "name": "python",
   "nbconvert_exporter": "python",
   "pygments_lexer": "ipython3",
   "version": "3.12.4"
  }
 },
 "nbformat": 4,
 "nbformat_minor": 5
}
