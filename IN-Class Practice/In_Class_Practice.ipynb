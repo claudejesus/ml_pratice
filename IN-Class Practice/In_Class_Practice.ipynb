{
 "cells": [
  {
   "cell_type": "markdown",
   "id": "3564a85a",
   "metadata": {},
   "source": [
    "# Regression with Machine Learning"
   ]
  },
  {
   "cell_type": "markdown",
   "id": "3ba11558",
   "metadata": {},
   "source": [
    "# Importing Libraries"
   ]
  },
  {
   "cell_type": "code",
   "execution_count": 63,
   "id": "8eff3de4",
   "metadata": {},
   "outputs": [],
   "source": [
    "from Packages import *\n",
    "import statsmodels.api as sm"
   ]
  },
  {
   "cell_type": "markdown",
   "id": "eed8eeae",
   "metadata": {},
   "source": [
    "# Importing the dataset"
   ]
  },
  {
   "cell_type": "code",
   "execution_count": 42,
   "id": "44aea614",
   "metadata": {},
   "outputs": [
    {
     "data": {
      "text/html": [
       "<div>\n",
       "<style scoped>\n",
       "    .dataframe tbody tr th:only-of-type {\n",
       "        vertical-align: middle;\n",
       "    }\n",
       "\n",
       "    .dataframe tbody tr th {\n",
       "        vertical-align: top;\n",
       "    }\n",
       "\n",
       "    .dataframe thead th {\n",
       "        text-align: right;\n",
       "    }\n",
       "</style>\n",
       "<table border=\"1\" class=\"dataframe\">\n",
       "  <thead>\n",
       "    <tr style=\"text-align: right;\">\n",
       "      <th></th>\n",
       "      <th>Serial No.</th>\n",
       "      <th>Gender</th>\n",
       "      <th>GRE Score</th>\n",
       "      <th>TOEFL Score</th>\n",
       "      <th>University Rating</th>\n",
       "      <th>LOR</th>\n",
       "      <th>SOP</th>\n",
       "      <th>CGPA</th>\n",
       "      <th>Research</th>\n",
       "      <th>Chance of Admit</th>\n",
       "    </tr>\n",
       "  </thead>\n",
       "  <tbody>\n",
       "    <tr>\n",
       "      <th>0</th>\n",
       "      <td>1</td>\n",
       "      <td>Male</td>\n",
       "      <td>337</td>\n",
       "      <td>118</td>\n",
       "      <td>4</td>\n",
       "      <td>4.5</td>\n",
       "      <td>4.5</td>\n",
       "      <td>9.65</td>\n",
       "      <td>1</td>\n",
       "      <td>0.92</td>\n",
       "    </tr>\n",
       "    <tr>\n",
       "      <th>1</th>\n",
       "      <td>2</td>\n",
       "      <td>Female</td>\n",
       "      <td>324</td>\n",
       "      <td>107</td>\n",
       "      <td>4</td>\n",
       "      <td>4.5</td>\n",
       "      <td>4.0</td>\n",
       "      <td>8.87</td>\n",
       "      <td>1</td>\n",
       "      <td>0.76</td>\n",
       "    </tr>\n",
       "    <tr>\n",
       "      <th>2</th>\n",
       "      <td>3</td>\n",
       "      <td>Female</td>\n",
       "      <td>316</td>\n",
       "      <td>104</td>\n",
       "      <td>3</td>\n",
       "      <td>3.5</td>\n",
       "      <td>3.0</td>\n",
       "      <td>8.00</td>\n",
       "      <td>1</td>\n",
       "      <td>0.72</td>\n",
       "    </tr>\n",
       "    <tr>\n",
       "      <th>3</th>\n",
       "      <td>4</td>\n",
       "      <td>Female</td>\n",
       "      <td>322</td>\n",
       "      <td>110</td>\n",
       "      <td>3</td>\n",
       "      <td>2.5</td>\n",
       "      <td>3.5</td>\n",
       "      <td>8.67</td>\n",
       "      <td>1</td>\n",
       "      <td>0.80</td>\n",
       "    </tr>\n",
       "    <tr>\n",
       "      <th>4</th>\n",
       "      <td>5</td>\n",
       "      <td>Female</td>\n",
       "      <td>314</td>\n",
       "      <td>103</td>\n",
       "      <td>2</td>\n",
       "      <td>3.0</td>\n",
       "      <td>2.0</td>\n",
       "      <td>8.21</td>\n",
       "      <td>0</td>\n",
       "      <td>0.65</td>\n",
       "    </tr>\n",
       "  </tbody>\n",
       "</table>\n",
       "</div>"
      ],
      "text/plain": [
       "   Serial No.  Gender  GRE Score  TOEFL Score  University Rating  LOR  SOP  \\\n",
       "0           1    Male        337          118                  4  4.5  4.5   \n",
       "1           2  Female        324          107                  4  4.5  4.0   \n",
       "2           3  Female        316          104                  3  3.5  3.0   \n",
       "3           4  Female        322          110                  3  2.5  3.5   \n",
       "4           5  Female        314          103                  2  3.0  2.0   \n",
       "\n",
       "   CGPA  Research  Chance of Admit  \n",
       "0  9.65         1             0.92  \n",
       "1  8.87         1             0.76  \n",
       "2  8.00         1             0.72  \n",
       "3  8.67         1             0.80  \n",
       "4  8.21         0             0.65  "
      ]
     },
     "execution_count": 42,
     "metadata": {},
     "output_type": "execute_result"
    }
   ],
   "source": [
    "df = pd.read_csv('University_adm_data.csv')\n",
    "df.head()"
   ]
  },
  {
   "cell_type": "code",
   "execution_count": 43,
   "id": "62ddf9a4",
   "metadata": {},
   "outputs": [
    {
     "data": {
      "text/html": [
       "<div>\n",
       "<style scoped>\n",
       "    .dataframe tbody tr th:only-of-type {\n",
       "        vertical-align: middle;\n",
       "    }\n",
       "\n",
       "    .dataframe tbody tr th {\n",
       "        vertical-align: top;\n",
       "    }\n",
       "\n",
       "    .dataframe thead th {\n",
       "        text-align: right;\n",
       "    }\n",
       "</style>\n",
       "<table border=\"1\" class=\"dataframe\">\n",
       "  <thead>\n",
       "    <tr style=\"text-align: right;\">\n",
       "      <th></th>\n",
       "      <th>Gender</th>\n",
       "      <th>GRE Score</th>\n",
       "      <th>TOEFL Score</th>\n",
       "      <th>University Rating</th>\n",
       "      <th>LOR</th>\n",
       "      <th>SOP</th>\n",
       "      <th>CGPA</th>\n",
       "      <th>Research</th>\n",
       "      <th>Chance of Admit</th>\n",
       "    </tr>\n",
       "  </thead>\n",
       "  <tbody>\n",
       "    <tr>\n",
       "      <th>0</th>\n",
       "      <td>Male</td>\n",
       "      <td>337</td>\n",
       "      <td>118</td>\n",
       "      <td>4</td>\n",
       "      <td>4.5</td>\n",
       "      <td>4.5</td>\n",
       "      <td>9.65</td>\n",
       "      <td>1</td>\n",
       "      <td>0.92</td>\n",
       "    </tr>\n",
       "    <tr>\n",
       "      <th>1</th>\n",
       "      <td>Female</td>\n",
       "      <td>324</td>\n",
       "      <td>107</td>\n",
       "      <td>4</td>\n",
       "      <td>4.5</td>\n",
       "      <td>4.0</td>\n",
       "      <td>8.87</td>\n",
       "      <td>1</td>\n",
       "      <td>0.76</td>\n",
       "    </tr>\n",
       "    <tr>\n",
       "      <th>2</th>\n",
       "      <td>Female</td>\n",
       "      <td>316</td>\n",
       "      <td>104</td>\n",
       "      <td>3</td>\n",
       "      <td>3.5</td>\n",
       "      <td>3.0</td>\n",
       "      <td>8.00</td>\n",
       "      <td>1</td>\n",
       "      <td>0.72</td>\n",
       "    </tr>\n",
       "    <tr>\n",
       "      <th>3</th>\n",
       "      <td>Female</td>\n",
       "      <td>322</td>\n",
       "      <td>110</td>\n",
       "      <td>3</td>\n",
       "      <td>2.5</td>\n",
       "      <td>3.5</td>\n",
       "      <td>8.67</td>\n",
       "      <td>1</td>\n",
       "      <td>0.80</td>\n",
       "    </tr>\n",
       "    <tr>\n",
       "      <th>4</th>\n",
       "      <td>Female</td>\n",
       "      <td>314</td>\n",
       "      <td>103</td>\n",
       "      <td>2</td>\n",
       "      <td>3.0</td>\n",
       "      <td>2.0</td>\n",
       "      <td>8.21</td>\n",
       "      <td>0</td>\n",
       "      <td>0.65</td>\n",
       "    </tr>\n",
       "  </tbody>\n",
       "</table>\n",
       "</div>"
      ],
      "text/plain": [
       "   Gender  GRE Score  TOEFL Score  University Rating  LOR  SOP  CGPA  \\\n",
       "0    Male        337          118                  4  4.5  4.5  9.65   \n",
       "1  Female        324          107                  4  4.5  4.0  8.87   \n",
       "2  Female        316          104                  3  3.5  3.0  8.00   \n",
       "3  Female        322          110                  3  2.5  3.5  8.67   \n",
       "4  Female        314          103                  2  3.0  2.0  8.21   \n",
       "\n",
       "   Research  Chance of Admit  \n",
       "0         1             0.92  \n",
       "1         1             0.76  \n",
       "2         1             0.72  \n",
       "3         1             0.80  \n",
       "4         0             0.65  "
      ]
     },
     "execution_count": 43,
     "metadata": {},
     "output_type": "execute_result"
    }
   ],
   "source": [
    "df.drop(['Serial No.'], axis=1, inplace=True)\n",
    "df.head()"
   ]
  },
  {
   "cell_type": "markdown",
   "id": "d6b282cc",
   "metadata": {},
   "source": [
    "# Declare the dependent and independent variables"
   ]
  },
  {
   "cell_type": "code",
   "execution_count": 44,
   "id": "c6a708a7",
   "metadata": {},
   "outputs": [
    {
     "data": {
      "text/html": [
       "<div>\n",
       "<style scoped>\n",
       "    .dataframe tbody tr th:only-of-type {\n",
       "        vertical-align: middle;\n",
       "    }\n",
       "\n",
       "    .dataframe tbody tr th {\n",
       "        vertical-align: top;\n",
       "    }\n",
       "\n",
       "    .dataframe thead th {\n",
       "        text-align: right;\n",
       "    }\n",
       "</style>\n",
       "<table border=\"1\" class=\"dataframe\">\n",
       "  <thead>\n",
       "    <tr style=\"text-align: right;\">\n",
       "      <th></th>\n",
       "      <th>GRE Score</th>\n",
       "      <th>TOEFL Score</th>\n",
       "      <th>University Rating</th>\n",
       "      <th>LOR</th>\n",
       "      <th>SOP</th>\n",
       "    </tr>\n",
       "  </thead>\n",
       "  <tbody>\n",
       "    <tr>\n",
       "      <th>0</th>\n",
       "      <td>337</td>\n",
       "      <td>118</td>\n",
       "      <td>4</td>\n",
       "      <td>4.5</td>\n",
       "      <td>4.5</td>\n",
       "    </tr>\n",
       "    <tr>\n",
       "      <th>1</th>\n",
       "      <td>324</td>\n",
       "      <td>107</td>\n",
       "      <td>4</td>\n",
       "      <td>4.5</td>\n",
       "      <td>4.0</td>\n",
       "    </tr>\n",
       "    <tr>\n",
       "      <th>2</th>\n",
       "      <td>316</td>\n",
       "      <td>104</td>\n",
       "      <td>3</td>\n",
       "      <td>3.5</td>\n",
       "      <td>3.0</td>\n",
       "    </tr>\n",
       "    <tr>\n",
       "      <th>3</th>\n",
       "      <td>322</td>\n",
       "      <td>110</td>\n",
       "      <td>3</td>\n",
       "      <td>2.5</td>\n",
       "      <td>3.5</td>\n",
       "    </tr>\n",
       "    <tr>\n",
       "      <th>4</th>\n",
       "      <td>314</td>\n",
       "      <td>103</td>\n",
       "      <td>2</td>\n",
       "      <td>3.0</td>\n",
       "      <td>2.0</td>\n",
       "    </tr>\n",
       "    <tr>\n",
       "      <th>...</th>\n",
       "      <td>...</td>\n",
       "      <td>...</td>\n",
       "      <td>...</td>\n",
       "      <td>...</td>\n",
       "      <td>...</td>\n",
       "    </tr>\n",
       "    <tr>\n",
       "      <th>395</th>\n",
       "      <td>324</td>\n",
       "      <td>110</td>\n",
       "      <td>3</td>\n",
       "      <td>3.5</td>\n",
       "      <td>3.5</td>\n",
       "    </tr>\n",
       "    <tr>\n",
       "      <th>396</th>\n",
       "      <td>325</td>\n",
       "      <td>107</td>\n",
       "      <td>3</td>\n",
       "      <td>3.5</td>\n",
       "      <td>3.0</td>\n",
       "    </tr>\n",
       "    <tr>\n",
       "      <th>397</th>\n",
       "      <td>330</td>\n",
       "      <td>116</td>\n",
       "      <td>4</td>\n",
       "      <td>4.5</td>\n",
       "      <td>5.0</td>\n",
       "    </tr>\n",
       "    <tr>\n",
       "      <th>398</th>\n",
       "      <td>312</td>\n",
       "      <td>103</td>\n",
       "      <td>3</td>\n",
       "      <td>4.0</td>\n",
       "      <td>3.5</td>\n",
       "    </tr>\n",
       "    <tr>\n",
       "      <th>399</th>\n",
       "      <td>333</td>\n",
       "      <td>117</td>\n",
       "      <td>4</td>\n",
       "      <td>4.0</td>\n",
       "      <td>5.0</td>\n",
       "    </tr>\n",
       "  </tbody>\n",
       "</table>\n",
       "<p>400 rows × 5 columns</p>\n",
       "</div>"
      ],
      "text/plain": [
       "     GRE Score  TOEFL Score  University Rating  LOR  SOP\n",
       "0          337          118                  4  4.5  4.5\n",
       "1          324          107                  4  4.5  4.0\n",
       "2          316          104                  3  3.5  3.0\n",
       "3          322          110                  3  2.5  3.5\n",
       "4          314          103                  2  3.0  2.0\n",
       "..         ...          ...                ...  ...  ...\n",
       "395        324          110                  3  3.5  3.5\n",
       "396        325          107                  3  3.5  3.0\n",
       "397        330          116                  4  4.5  5.0\n",
       "398        312          103                  3  4.0  3.5\n",
       "399        333          117                  4  4.0  5.0\n",
       "\n",
       "[400 rows x 5 columns]"
      ]
     },
     "execution_count": 44,
     "metadata": {},
     "output_type": "execute_result"
    }
   ],
   "source": [
    "x = df[['GRE Score','TOEFL Score','University Rating','LOR','SOP']]\n",
    "y = df['Chance of Admit']\n",
    "x"
   ]
  },
  {
   "cell_type": "code",
   "execution_count": null,
   "id": "340c9962-b782-45a2-b0a8-be738da30c7c",
   "metadata": {},
   "outputs": [],
   "source": []
  },
  {
   "cell_type": "markdown",
   "id": "00c62aea",
   "metadata": {},
   "source": [
    "# Taking care of missing data"
   ]
  },
  {
   "cell_type": "code",
   "execution_count": 45,
   "id": "29e5c96b",
   "metadata": {},
   "outputs": [
    {
     "data": {
      "text/plain": [
       "Gender               0\n",
       "GRE Score            0\n",
       "TOEFL Score          0\n",
       "University Rating    0\n",
       "LOR                  0\n",
       "SOP                  0\n",
       "CGPA                 0\n",
       "Research             0\n",
       "Chance of Admit      0\n",
       "dtype: int64"
      ]
     },
     "execution_count": 45,
     "metadata": {},
     "output_type": "execute_result"
    }
   ],
   "source": [
    "df.isnull().sum()"
   ]
  },
  {
   "cell_type": "markdown",
   "id": "1c89d567",
   "metadata": {},
   "source": [
    "# Encoding categorical data"
   ]
  },
  {
   "cell_type": "code",
   "execution_count": 46,
   "id": "8f814e28",
   "metadata": {},
   "outputs": [],
   "source": [
    "le = LabelEncoder()\n",
    "df['Gender'] = le.fit_transform(df['Gender'])"
   ]
  },
  {
   "cell_type": "code",
   "execution_count": 47,
   "id": "fb6e200d",
   "metadata": {},
   "outputs": [
    {
     "data": {
      "text/html": [
       "<div>\n",
       "<style scoped>\n",
       "    .dataframe tbody tr th:only-of-type {\n",
       "        vertical-align: middle;\n",
       "    }\n",
       "\n",
       "    .dataframe tbody tr th {\n",
       "        vertical-align: top;\n",
       "    }\n",
       "\n",
       "    .dataframe thead th {\n",
       "        text-align: right;\n",
       "    }\n",
       "</style>\n",
       "<table border=\"1\" class=\"dataframe\">\n",
       "  <thead>\n",
       "    <tr style=\"text-align: right;\">\n",
       "      <th></th>\n",
       "      <th>Gender</th>\n",
       "      <th>GRE Score</th>\n",
       "      <th>TOEFL Score</th>\n",
       "      <th>University Rating</th>\n",
       "      <th>LOR</th>\n",
       "      <th>SOP</th>\n",
       "      <th>CGPA</th>\n",
       "      <th>Research</th>\n",
       "      <th>Chance of Admit</th>\n",
       "    </tr>\n",
       "  </thead>\n",
       "  <tbody>\n",
       "    <tr>\n",
       "      <th>0</th>\n",
       "      <td>1</td>\n",
       "      <td>337</td>\n",
       "      <td>118</td>\n",
       "      <td>4</td>\n",
       "      <td>4.5</td>\n",
       "      <td>4.5</td>\n",
       "      <td>9.65</td>\n",
       "      <td>1</td>\n",
       "      <td>0.92</td>\n",
       "    </tr>\n",
       "    <tr>\n",
       "      <th>1</th>\n",
       "      <td>0</td>\n",
       "      <td>324</td>\n",
       "      <td>107</td>\n",
       "      <td>4</td>\n",
       "      <td>4.5</td>\n",
       "      <td>4.0</td>\n",
       "      <td>8.87</td>\n",
       "      <td>1</td>\n",
       "      <td>0.76</td>\n",
       "    </tr>\n",
       "    <tr>\n",
       "      <th>2</th>\n",
       "      <td>0</td>\n",
       "      <td>316</td>\n",
       "      <td>104</td>\n",
       "      <td>3</td>\n",
       "      <td>3.5</td>\n",
       "      <td>3.0</td>\n",
       "      <td>8.00</td>\n",
       "      <td>1</td>\n",
       "      <td>0.72</td>\n",
       "    </tr>\n",
       "    <tr>\n",
       "      <th>3</th>\n",
       "      <td>0</td>\n",
       "      <td>322</td>\n",
       "      <td>110</td>\n",
       "      <td>3</td>\n",
       "      <td>2.5</td>\n",
       "      <td>3.5</td>\n",
       "      <td>8.67</td>\n",
       "      <td>1</td>\n",
       "      <td>0.80</td>\n",
       "    </tr>\n",
       "    <tr>\n",
       "      <th>4</th>\n",
       "      <td>0</td>\n",
       "      <td>314</td>\n",
       "      <td>103</td>\n",
       "      <td>2</td>\n",
       "      <td>3.0</td>\n",
       "      <td>2.0</td>\n",
       "      <td>8.21</td>\n",
       "      <td>0</td>\n",
       "      <td>0.65</td>\n",
       "    </tr>\n",
       "  </tbody>\n",
       "</table>\n",
       "</div>"
      ],
      "text/plain": [
       "   Gender  GRE Score  TOEFL Score  University Rating  LOR  SOP  CGPA  \\\n",
       "0       1        337          118                  4  4.5  4.5  9.65   \n",
       "1       0        324          107                  4  4.5  4.0  8.87   \n",
       "2       0        316          104                  3  3.5  3.0  8.00   \n",
       "3       0        322          110                  3  2.5  3.5  8.67   \n",
       "4       0        314          103                  2  3.0  2.0  8.21   \n",
       "\n",
       "   Research  Chance of Admit  \n",
       "0         1             0.92  \n",
       "1         1             0.76  \n",
       "2         1             0.72  \n",
       "3         1             0.80  \n",
       "4         0             0.65  "
      ]
     },
     "execution_count": 47,
     "metadata": {},
     "output_type": "execute_result"
    }
   ],
   "source": [
    "df.head()"
   ]
  },
  {
   "cell_type": "markdown",
   "id": "763ba6a8",
   "metadata": {},
   "source": [
    "# Spliting the dataset into the Training set and Test set"
   ]
  },
  {
   "cell_type": "code",
   "execution_count": 48,
   "id": "19ab14d2",
   "metadata": {},
   "outputs": [],
   "source": [
    "x_train, x_test, y_train,y_test = train_test_split(x,y, test_size=0.2, random_state=1)"
   ]
  },
  {
   "cell_type": "markdown",
   "id": "d4a5a38e",
   "metadata": {},
   "source": [
    "# Feature Scaling"
   ]
  },
  {
   "cell_type": "code",
   "execution_count": 49,
   "id": "3da9bb70",
   "metadata": {},
   "outputs": [],
   "source": [
    "ss = StandardScaler()"
   ]
  },
  {
   "cell_type": "code",
   "execution_count": 50,
   "id": "dddcdb9d",
   "metadata": {},
   "outputs": [],
   "source": [
    "x_train[['GRE Score','TOEFL Score','University Rating','LOR','SOP']] = \\\n",
    "ss.fit_transform(x_train[['GRE Score','TOEFL Score','University Rating','LOR','SOP']])\n",
    "\n",
    "x_test[['GRE Score','TOEFL Score','University Rating','LOR','SOP']] = \\\n",
    "ss.transform(x_test[['GRE Score','TOEFL Score','University Rating','LOR','SOP']])"
   ]
  },
  {
   "cell_type": "code",
   "execution_count": 64,
   "id": "bf9e7bb0",
   "metadata": {},
   "outputs": [
    {
     "data": {
      "text/html": [
       "<table class=\"simpletable\">\n",
       "<caption>OLS Regression Results</caption>\n",
       "<tr>\n",
       "  <th>Dep. Variable:</th>     <td>Chance of Admit</td> <th>  R-squared:         </th> <td>   0.747</td>\n",
       "</tr>\n",
       "<tr>\n",
       "  <th>Model:</th>                   <td>OLS</td>       <th>  Adj. R-squared:    </th> <td>   0.743</td>\n",
       "</tr>\n",
       "<tr>\n",
       "  <th>Method:</th>             <td>Least Squares</td>  <th>  F-statistic:       </th> <td>   185.6</td>\n",
       "</tr>\n",
       "<tr>\n",
       "  <th>Date:</th>             <td>Tue, 03 Dec 2024</td> <th>  Prob (F-statistic):</th> <td>1.72e-91</td>\n",
       "</tr>\n",
       "<tr>\n",
       "  <th>Time:</th>                 <td>12:08:45</td>     <th>  Log-Likelihood:    </th> <td>  395.41</td>\n",
       "</tr>\n",
       "<tr>\n",
       "  <th>No. Observations:</th>      <td>   320</td>      <th>  AIC:               </th> <td>  -778.8</td>\n",
       "</tr>\n",
       "<tr>\n",
       "  <th>Df Residuals:</th>          <td>   314</td>      <th>  BIC:               </th> <td>  -756.2</td>\n",
       "</tr>\n",
       "<tr>\n",
       "  <th>Df Model:</th>              <td>     5</td>      <th>                     </th>     <td> </td>   \n",
       "</tr>\n",
       "<tr>\n",
       "  <th>Covariance Type:</th>      <td>nonrobust</td>    <th>                     </th>     <td> </td>   \n",
       "</tr>\n",
       "</table>\n",
       "<table class=\"simpletable\">\n",
       "<tr>\n",
       "          <td></td>             <th>coef</th>     <th>std err</th>      <th>t</th>      <th>P>|t|</th>  <th>[0.025</th>    <th>0.975]</th>  \n",
       "</tr>\n",
       "<tr>\n",
       "  <th>const</th>             <td>    0.7261</td> <td>    0.004</td> <td>  182.961</td> <td> 0.000</td> <td>    0.718</td> <td>    0.734</td>\n",
       "</tr>\n",
       "<tr>\n",
       "  <th>GRE Score</th>         <td>    0.0499</td> <td>    0.007</td> <td>    6.807</td> <td> 0.000</td> <td>    0.035</td> <td>    0.064</td>\n",
       "</tr>\n",
       "<tr>\n",
       "  <th>TOEFL Score</th>       <td>    0.0358</td> <td>    0.008</td> <td>    4.590</td> <td> 0.000</td> <td>    0.020</td> <td>    0.051</td>\n",
       "</tr>\n",
       "<tr>\n",
       "  <th>University Rating</th> <td>    0.0207</td> <td>    0.007</td> <td>    2.910</td> <td> 0.004</td> <td>    0.007</td> <td>    0.035</td>\n",
       "</tr>\n",
       "<tr>\n",
       "  <th>LOR</th>               <td>    0.0298</td> <td>    0.006</td> <td>    4.940</td> <td> 0.000</td> <td>    0.018</td> <td>    0.042</td>\n",
       "</tr>\n",
       "<tr>\n",
       "  <th>SOP</th>               <td>    0.0029</td> <td>    0.007</td> <td>    0.419</td> <td> 0.676</td> <td>   -0.011</td> <td>    0.017</td>\n",
       "</tr>\n",
       "</table>\n",
       "<table class=\"simpletable\">\n",
       "<tr>\n",
       "  <th>Omnibus:</th>       <td>72.907</td> <th>  Durbin-Watson:     </th> <td>   1.919</td>\n",
       "</tr>\n",
       "<tr>\n",
       "  <th>Prob(Omnibus):</th> <td> 0.000</td> <th>  Jarque-Bera (JB):  </th> <td> 153.777</td>\n",
       "</tr>\n",
       "<tr>\n",
       "  <th>Skew:</th>          <td>-1.157</td> <th>  Prob(JB):          </th> <td>4.05e-34</td>\n",
       "</tr>\n",
       "<tr>\n",
       "  <th>Kurtosis:</th>      <td> 5.487</td> <th>  Cond. No.          </th> <td>    4.79</td>\n",
       "</tr>\n",
       "</table><br/><br/>Notes:<br/>[1] Standard Errors assume that the covariance matrix of the errors is correctly specified."
      ],
      "text/latex": [
       "\\begin{center}\n",
       "\\begin{tabular}{lclc}\n",
       "\\toprule\n",
       "\\textbf{Dep. Variable:}    & Chance of Admit  & \\textbf{  R-squared:         } &     0.747   \\\\\n",
       "\\textbf{Model:}            &       OLS        & \\textbf{  Adj. R-squared:    } &     0.743   \\\\\n",
       "\\textbf{Method:}           &  Least Squares   & \\textbf{  F-statistic:       } &     185.6   \\\\\n",
       "\\textbf{Date:}             & Tue, 03 Dec 2024 & \\textbf{  Prob (F-statistic):} &  1.72e-91   \\\\\n",
       "\\textbf{Time:}             &     12:08:45     & \\textbf{  Log-Likelihood:    } &    395.41   \\\\\n",
       "\\textbf{No. Observations:} &         320      & \\textbf{  AIC:               } &    -778.8   \\\\\n",
       "\\textbf{Df Residuals:}     &         314      & \\textbf{  BIC:               } &    -756.2   \\\\\n",
       "\\textbf{Df Model:}         &           5      & \\textbf{                     } &             \\\\\n",
       "\\textbf{Covariance Type:}  &    nonrobust     & \\textbf{                     } &             \\\\\n",
       "\\bottomrule\n",
       "\\end{tabular}\n",
       "\\begin{tabular}{lcccccc}\n",
       "                           & \\textbf{coef} & \\textbf{std err} & \\textbf{t} & \\textbf{P$> |$t$|$} & \\textbf{[0.025} & \\textbf{0.975]}  \\\\\n",
       "\\midrule\n",
       "\\textbf{const}             &       0.7261  &        0.004     &   182.961  &         0.000        &        0.718    &        0.734     \\\\\n",
       "\\textbf{GRE Score}         &       0.0499  &        0.007     &     6.807  &         0.000        &        0.035    &        0.064     \\\\\n",
       "\\textbf{TOEFL Score}       &       0.0358  &        0.008     &     4.590  &         0.000        &        0.020    &        0.051     \\\\\n",
       "\\textbf{University Rating} &       0.0207  &        0.007     &     2.910  &         0.004        &        0.007    &        0.035     \\\\\n",
       "\\textbf{LOR}               &       0.0298  &        0.006     &     4.940  &         0.000        &        0.018    &        0.042     \\\\\n",
       "\\textbf{SOP}               &       0.0029  &        0.007     &     0.419  &         0.676        &       -0.011    &        0.017     \\\\\n",
       "\\bottomrule\n",
       "\\end{tabular}\n",
       "\\begin{tabular}{lclc}\n",
       "\\textbf{Omnibus:}       & 72.907 & \\textbf{  Durbin-Watson:     } &    1.919  \\\\\n",
       "\\textbf{Prob(Omnibus):} &  0.000 & \\textbf{  Jarque-Bera (JB):  } &  153.777  \\\\\n",
       "\\textbf{Skew:}          & -1.157 & \\textbf{  Prob(JB):          } & 4.05e-34  \\\\\n",
       "\\textbf{Kurtosis:}      &  5.487 & \\textbf{  Cond. No.          } &     4.79  \\\\\n",
       "\\bottomrule\n",
       "\\end{tabular}\n",
       "%\\caption{OLS Regression Results}\n",
       "\\end{center}\n",
       "\n",
       "Notes: \\newline\n",
       " [1] Standard Errors assume that the covariance matrix of the errors is correctly specified."
      ],
      "text/plain": [
       "<class 'statsmodels.iolib.summary.Summary'>\n",
       "\"\"\"\n",
       "                            OLS Regression Results                            \n",
       "==============================================================================\n",
       "Dep. Variable:        Chance of Admit   R-squared:                       0.747\n",
       "Model:                            OLS   Adj. R-squared:                  0.743\n",
       "Method:                 Least Squares   F-statistic:                     185.6\n",
       "Date:                Tue, 03 Dec 2024   Prob (F-statistic):           1.72e-91\n",
       "Time:                        12:08:45   Log-Likelihood:                 395.41\n",
       "No. Observations:                 320   AIC:                            -778.8\n",
       "Df Residuals:                     314   BIC:                            -756.2\n",
       "Df Model:                           5                                         \n",
       "Covariance Type:            nonrobust                                         \n",
       "=====================================================================================\n",
       "                        coef    std err          t      P>|t|      [0.025      0.975]\n",
       "-------------------------------------------------------------------------------------\n",
       "const                 0.7261      0.004    182.961      0.000       0.718       0.734\n",
       "GRE Score             0.0499      0.007      6.807      0.000       0.035       0.064\n",
       "TOEFL Score           0.0358      0.008      4.590      0.000       0.020       0.051\n",
       "University Rating     0.0207      0.007      2.910      0.004       0.007       0.035\n",
       "LOR                   0.0298      0.006      4.940      0.000       0.018       0.042\n",
       "SOP                   0.0029      0.007      0.419      0.676      -0.011       0.017\n",
       "==============================================================================\n",
       "Omnibus:                       72.907   Durbin-Watson:                   1.919\n",
       "Prob(Omnibus):                  0.000   Jarque-Bera (JB):              153.777\n",
       "Skew:                          -1.157   Prob(JB):                     4.05e-34\n",
       "Kurtosis:                       5.487   Cond. No.                         4.79\n",
       "==============================================================================\n",
       "\n",
       "Notes:\n",
       "[1] Standard Errors assume that the covariance matrix of the errors is correctly specified.\n",
       "\"\"\""
      ]
     },
     "execution_count": 64,
     "metadata": {},
     "output_type": "execute_result"
    }
   ],
   "source": [
    "x_train = sm.add_constant(x_train)\n",
    "x_test = sm.add_constant(x_test)\n",
    "\n",
    "results = sm.OLS(y_train,x_train).fit()\n",
    "results.summary()"
   ]
  },
  {
   "cell_type": "markdown",
   "id": "c830be71",
   "metadata": {},
   "source": [
    "# Model Development (Training the Multiple Linear Regression)"
   ]
  },
  {
   "cell_type": "code",
   "execution_count": 52,
   "id": "b7d5a2a3",
   "metadata": {},
   "outputs": [],
   "source": [
    "import statsmodels.api as sm"
   ]
  },
  {
   "cell_type": "code",
   "execution_count": 53,
   "id": "16034c28",
   "metadata": {},
   "outputs": [
    {
     "data": {
      "text/html": [
       "<table class=\"simpletable\">\n",
       "<caption>OLS Regression Results</caption>\n",
       "<tr>\n",
       "  <th>Dep. Variable:</th>     <td>Chance of Admit</td> <th>  R-squared:         </th> <td>   0.747</td>\n",
       "</tr>\n",
       "<tr>\n",
       "  <th>Model:</th>                   <td>OLS</td>       <th>  Adj. R-squared:    </th> <td>   0.743</td>\n",
       "</tr>\n",
       "<tr>\n",
       "  <th>Method:</th>             <td>Least Squares</td>  <th>  F-statistic:       </th> <td>   185.6</td>\n",
       "</tr>\n",
       "<tr>\n",
       "  <th>Date:</th>             <td>Tue, 03 Dec 2024</td> <th>  Prob (F-statistic):</th> <td>1.72e-91</td>\n",
       "</tr>\n",
       "<tr>\n",
       "  <th>Time:</th>                 <td>10:16:42</td>     <th>  Log-Likelihood:    </th> <td>  395.41</td>\n",
       "</tr>\n",
       "<tr>\n",
       "  <th>No. Observations:</th>      <td>   320</td>      <th>  AIC:               </th> <td>  -778.8</td>\n",
       "</tr>\n",
       "<tr>\n",
       "  <th>Df Residuals:</th>          <td>   314</td>      <th>  BIC:               </th> <td>  -756.2</td>\n",
       "</tr>\n",
       "<tr>\n",
       "  <th>Df Model:</th>              <td>     5</td>      <th>                     </th>     <td> </td>   \n",
       "</tr>\n",
       "<tr>\n",
       "  <th>Covariance Type:</th>      <td>nonrobust</td>    <th>                     </th>     <td> </td>   \n",
       "</tr>\n",
       "</table>\n",
       "<table class=\"simpletable\">\n",
       "<tr>\n",
       "          <td></td>             <th>coef</th>     <th>std err</th>      <th>t</th>      <th>P>|t|</th>  <th>[0.025</th>    <th>0.975]</th>  \n",
       "</tr>\n",
       "<tr>\n",
       "  <th>const</th>             <td>    0.7261</td> <td>    0.004</td> <td>  182.961</td> <td> 0.000</td> <td>    0.718</td> <td>    0.734</td>\n",
       "</tr>\n",
       "<tr>\n",
       "  <th>GRE Score</th>         <td>    0.0499</td> <td>    0.007</td> <td>    6.807</td> <td> 0.000</td> <td>    0.035</td> <td>    0.064</td>\n",
       "</tr>\n",
       "<tr>\n",
       "  <th>TOEFL Score</th>       <td>    0.0358</td> <td>    0.008</td> <td>    4.590</td> <td> 0.000</td> <td>    0.020</td> <td>    0.051</td>\n",
       "</tr>\n",
       "<tr>\n",
       "  <th>University Rating</th> <td>    0.0207</td> <td>    0.007</td> <td>    2.910</td> <td> 0.004</td> <td>    0.007</td> <td>    0.035</td>\n",
       "</tr>\n",
       "<tr>\n",
       "  <th>LOR</th>               <td>    0.0298</td> <td>    0.006</td> <td>    4.940</td> <td> 0.000</td> <td>    0.018</td> <td>    0.042</td>\n",
       "</tr>\n",
       "<tr>\n",
       "  <th>SOP</th>               <td>    0.0029</td> <td>    0.007</td> <td>    0.419</td> <td> 0.676</td> <td>   -0.011</td> <td>    0.017</td>\n",
       "</tr>\n",
       "</table>\n",
       "<table class=\"simpletable\">\n",
       "<tr>\n",
       "  <th>Omnibus:</th>       <td>72.907</td> <th>  Durbin-Watson:     </th> <td>   1.919</td>\n",
       "</tr>\n",
       "<tr>\n",
       "  <th>Prob(Omnibus):</th> <td> 0.000</td> <th>  Jarque-Bera (JB):  </th> <td> 153.777</td>\n",
       "</tr>\n",
       "<tr>\n",
       "  <th>Skew:</th>          <td>-1.157</td> <th>  Prob(JB):          </th> <td>4.05e-34</td>\n",
       "</tr>\n",
       "<tr>\n",
       "  <th>Kurtosis:</th>      <td> 5.487</td> <th>  Cond. No.          </th> <td>    4.79</td>\n",
       "</tr>\n",
       "</table><br/><br/>Notes:<br/>[1] Standard Errors assume that the covariance matrix of the errors is correctly specified."
      ],
      "text/latex": [
       "\\begin{center}\n",
       "\\begin{tabular}{lclc}\n",
       "\\toprule\n",
       "\\textbf{Dep. Variable:}    & Chance of Admit  & \\textbf{  R-squared:         } &     0.747   \\\\\n",
       "\\textbf{Model:}            &       OLS        & \\textbf{  Adj. R-squared:    } &     0.743   \\\\\n",
       "\\textbf{Method:}           &  Least Squares   & \\textbf{  F-statistic:       } &     185.6   \\\\\n",
       "\\textbf{Date:}             & Tue, 03 Dec 2024 & \\textbf{  Prob (F-statistic):} &  1.72e-91   \\\\\n",
       "\\textbf{Time:}             &     10:16:42     & \\textbf{  Log-Likelihood:    } &    395.41   \\\\\n",
       "\\textbf{No. Observations:} &         320      & \\textbf{  AIC:               } &    -778.8   \\\\\n",
       "\\textbf{Df Residuals:}     &         314      & \\textbf{  BIC:               } &    -756.2   \\\\\n",
       "\\textbf{Df Model:}         &           5      & \\textbf{                     } &             \\\\\n",
       "\\textbf{Covariance Type:}  &    nonrobust     & \\textbf{                     } &             \\\\\n",
       "\\bottomrule\n",
       "\\end{tabular}\n",
       "\\begin{tabular}{lcccccc}\n",
       "                           & \\textbf{coef} & \\textbf{std err} & \\textbf{t} & \\textbf{P$> |$t$|$} & \\textbf{[0.025} & \\textbf{0.975]}  \\\\\n",
       "\\midrule\n",
       "\\textbf{const}             &       0.7261  &        0.004     &   182.961  &         0.000        &        0.718    &        0.734     \\\\\n",
       "\\textbf{GRE Score}         &       0.0499  &        0.007     &     6.807  &         0.000        &        0.035    &        0.064     \\\\\n",
       "\\textbf{TOEFL Score}       &       0.0358  &        0.008     &     4.590  &         0.000        &        0.020    &        0.051     \\\\\n",
       "\\textbf{University Rating} &       0.0207  &        0.007     &     2.910  &         0.004        &        0.007    &        0.035     \\\\\n",
       "\\textbf{LOR}               &       0.0298  &        0.006     &     4.940  &         0.000        &        0.018    &        0.042     \\\\\n",
       "\\textbf{SOP}               &       0.0029  &        0.007     &     0.419  &         0.676        &       -0.011    &        0.017     \\\\\n",
       "\\bottomrule\n",
       "\\end{tabular}\n",
       "\\begin{tabular}{lclc}\n",
       "\\textbf{Omnibus:}       & 72.907 & \\textbf{  Durbin-Watson:     } &    1.919  \\\\\n",
       "\\textbf{Prob(Omnibus):} &  0.000 & \\textbf{  Jarque-Bera (JB):  } &  153.777  \\\\\n",
       "\\textbf{Skew:}          & -1.157 & \\textbf{  Prob(JB):          } & 4.05e-34  \\\\\n",
       "\\textbf{Kurtosis:}      &  5.487 & \\textbf{  Cond. No.          } &     4.79  \\\\\n",
       "\\bottomrule\n",
       "\\end{tabular}\n",
       "%\\caption{OLS Regression Results}\n",
       "\\end{center}\n",
       "\n",
       "Notes: \\newline\n",
       " [1] Standard Errors assume that the covariance matrix of the errors is correctly specified."
      ],
      "text/plain": [
       "<class 'statsmodels.iolib.summary.Summary'>\n",
       "\"\"\"\n",
       "                            OLS Regression Results                            \n",
       "==============================================================================\n",
       "Dep. Variable:        Chance of Admit   R-squared:                       0.747\n",
       "Model:                            OLS   Adj. R-squared:                  0.743\n",
       "Method:                 Least Squares   F-statistic:                     185.6\n",
       "Date:                Tue, 03 Dec 2024   Prob (F-statistic):           1.72e-91\n",
       "Time:                        10:16:42   Log-Likelihood:                 395.41\n",
       "No. Observations:                 320   AIC:                            -778.8\n",
       "Df Residuals:                     314   BIC:                            -756.2\n",
       "Df Model:                           5                                         \n",
       "Covariance Type:            nonrobust                                         \n",
       "=====================================================================================\n",
       "                        coef    std err          t      P>|t|      [0.025      0.975]\n",
       "-------------------------------------------------------------------------------------\n",
       "const                 0.7261      0.004    182.961      0.000       0.718       0.734\n",
       "GRE Score             0.0499      0.007      6.807      0.000       0.035       0.064\n",
       "TOEFL Score           0.0358      0.008      4.590      0.000       0.020       0.051\n",
       "University Rating     0.0207      0.007      2.910      0.004       0.007       0.035\n",
       "LOR                   0.0298      0.006      4.940      0.000       0.018       0.042\n",
       "SOP                   0.0029      0.007      0.419      0.676      -0.011       0.017\n",
       "==============================================================================\n",
       "Omnibus:                       72.907   Durbin-Watson:                   1.919\n",
       "Prob(Omnibus):                  0.000   Jarque-Bera (JB):              153.777\n",
       "Skew:                          -1.157   Prob(JB):                     4.05e-34\n",
       "Kurtosis:                       5.487   Cond. No.                         4.79\n",
       "==============================================================================\n",
       "\n",
       "Notes:\n",
       "[1] Standard Errors assume that the covariance matrix of the errors is correctly specified.\n",
       "\"\"\""
      ]
     },
     "execution_count": 53,
     "metadata": {},
     "output_type": "execute_result"
    }
   ],
   "source": [
    "x_train = sm.add_constant(x_train)\n",
    "x_test = sm.add_constant(x_test)\n",
    "\n",
    "results = sm.OLS(y_train,x_train).fit()\n",
    "results.summary()"
   ]
  },
  {
   "cell_type": "markdown",
   "id": "66238630",
   "metadata": {},
   "source": [
    "# Predicting the Test set results"
   ]
  },
  {
   "cell_type": "code",
   "execution_count": 54,
   "id": "f482006e",
   "metadata": {},
   "outputs": [
    {
     "data": {
      "text/plain": [
       "398    0.696746\n",
       "125    0.589050\n",
       "328    0.805117\n",
       "339    0.808796\n",
       "172    0.834051\n",
       "         ...   \n",
       "347    0.444901\n",
       "41     0.655810\n",
       "180    0.616806\n",
       "132    0.714574\n",
       "224    0.592352\n",
       "Length: 80, dtype: float64"
      ]
     },
     "execution_count": 54,
     "metadata": {},
     "output_type": "execute_result"
    }
   ],
   "source": [
    "y_pred = results.predict(x_test)\n",
    "y_pred"
   ]
  },
  {
   "cell_type": "code",
   "execution_count": 55,
   "id": "2196532f",
   "metadata": {},
   "outputs": [
    {
     "data": {
      "text/plain": [
       "398    0.67\n",
       "125    0.64\n",
       "328    0.80\n",
       "339    0.81\n",
       "172    0.86\n",
       "       ... \n",
       "347    0.42\n",
       "41     0.49\n",
       "180    0.71\n",
       "132    0.71\n",
       "224    0.67\n",
       "Name: Chance of Admit, Length: 80, dtype: float64"
      ]
     },
     "execution_count": 55,
     "metadata": {},
     "output_type": "execute_result"
    }
   ],
   "source": [
    "y_test"
   ]
  },
  {
   "cell_type": "code",
   "execution_count": 56,
   "id": "6545b0b6",
   "metadata": {},
   "outputs": [],
   "source": [
    "y_pred = y_pred.reset_index(drop=True)\n",
    "y_test = y_test.reset_index(drop=True)"
   ]
  },
  {
   "cell_type": "markdown",
   "id": "802c6c8c",
   "metadata": {},
   "source": [
    "# Calculating Evaluation Metrics"
   ]
  },
  {
   "cell_type": "code",
   "execution_count": 57,
   "id": "294c2a8b",
   "metadata": {},
   "outputs": [],
   "source": [
    "from sklearn.metrics import mean_squared_error"
   ]
  },
  {
   "cell_type": "code",
   "execution_count": 58,
   "id": "bda7fb4f",
   "metadata": {},
   "outputs": [
    {
     "data": {
      "text/plain": [
       "0.00562430321530501"
      ]
     },
     "execution_count": 58,
     "metadata": {},
     "output_type": "execute_result"
    }
   ],
   "source": [
    "mse =  mean_squared_error(y_test,y_pred)\n",
    "mse"
   ]
  },
  {
   "cell_type": "markdown",
   "id": "81503466",
   "metadata": {},
   "source": [
    "# Correlation"
   ]
  },
  {
   "cell_type": "code",
   "execution_count": 59,
   "id": "3082a99c",
   "metadata": {},
   "outputs": [
    {
     "data": {
      "text/html": [
       "<div>\n",
       "<style scoped>\n",
       "    .dataframe tbody tr th:only-of-type {\n",
       "        vertical-align: middle;\n",
       "    }\n",
       "\n",
       "    .dataframe tbody tr th {\n",
       "        vertical-align: top;\n",
       "    }\n",
       "\n",
       "    .dataframe thead th {\n",
       "        text-align: right;\n",
       "    }\n",
       "</style>\n",
       "<table border=\"1\" class=\"dataframe\">\n",
       "  <thead>\n",
       "    <tr style=\"text-align: right;\">\n",
       "      <th></th>\n",
       "      <th>LOR</th>\n",
       "      <th>Chance of Admit</th>\n",
       "    </tr>\n",
       "  </thead>\n",
       "  <tbody>\n",
       "    <tr>\n",
       "      <th>LOR</th>\n",
       "      <td>1.000000</td>\n",
       "      <td>0.669889</td>\n",
       "    </tr>\n",
       "    <tr>\n",
       "      <th>Chance of Admit</th>\n",
       "      <td>0.669889</td>\n",
       "      <td>1.000000</td>\n",
       "    </tr>\n",
       "  </tbody>\n",
       "</table>\n",
       "</div>"
      ],
      "text/plain": [
       "                      LOR  Chance of Admit\n",
       "LOR              1.000000         0.669889\n",
       "Chance of Admit  0.669889         1.000000"
      ]
     },
     "execution_count": 59,
     "metadata": {},
     "output_type": "execute_result"
    }
   ],
   "source": [
    "df[['LOR', 'Chance of Admit']].corr()"
   ]
  },
  {
   "cell_type": "markdown",
   "id": "7bd5193e",
   "metadata": {},
   "source": [
    "<h3>GRE Score vs Chance of Admit</h3>\n",
    "\n",
    "Let's calculate the Pearson Correlation Coefficient and P-value of 'GRE Score' and 'Chance of Admit':"
   ]
  },
  {
   "cell_type": "code",
   "execution_count": 60,
   "id": "63c77671",
   "metadata": {},
   "outputs": [],
   "source": [
    "from scipy import stats"
   ]
  },
  {
   "cell_type": "code",
   "execution_count": 61,
   "id": "7c09bfdb",
   "metadata": {},
   "outputs": [
    {
     "name": "stdout",
     "output_type": "stream",
     "text": [
      "0.8026104595903504\n",
      "2.458112414178991e-91\n"
     ]
    }
   ],
   "source": [
    "per_coef, p_value = stats.pearsonr(df['GRE Score'], df['Chance of Admit'])\n",
    "\n",
    "print(per_coef)\n",
    "print(p_value)"
   ]
  },
  {
   "cell_type": "markdown",
   "id": "dabef335",
   "metadata": {},
   "source": [
    "# Regression Plot"
   ]
  },
  {
   "cell_type": "code",
   "execution_count": 62,
   "id": "20124357",
   "metadata": {},
   "outputs": [
    {
     "data": {
      "image/png": "[encoded data removed]",
      "text/plain": [
       "<Figure size 640x480 with 1 Axes>"
      ]
     },
     "metadata": {},
     "output_type": "display_data"
    }
   ],
   "source": [
    "sns.regplot(x=\"GRE Score\",y='Chance of Admit', data=df, line_kws={'color':'red'})\n",
    "plt.show()"
   ]
  },
  {
   "cell_type": "markdown",
   "id": "b65c4aff",
   "metadata": {},
   "source": [
    "# Residual Plot"
   ]
  },
  {
   "cell_type": "code",
   "execution_count": 38,
   "id": "bcbf45f4",
   "metadata": {},
   "outputs": [
    {
     "data": {
      "image/png": "[encoded data removed]",
      "text/plain": [
       "<Figure size 640x480 with 1 Axes>"
      ]
     },
     "metadata": {},
     "output_type": "display_data"
    }
   ],
   "source": [
    "sns.residplot(x=df['GRE Score'], y=df['Chance of Admit'])\n",
    "plt.show()"
   ]
  },
  {
   "cell_type": "markdown",
   "id": "9a2bbb97",
   "metadata": {},
   "source": [
    "### Randomly spread out arround the x-axis indicates a LINEAR MODEL is approperiate for the data."
   ]
  },
  {
   "cell_type": "code",
   "execution_count": null,
   "id": "76abd94f",
   "metadata": {},
   "outputs": [],
   "source": []
  }
 ],
 "metadata": {
  "kernelspec": {
   "display_name": "Python 3 (ipykernel)",
   "language": "python",
   "name": "python3"
  },
  "language_info": {
   "codemirror_mode": {
    "name": "ipython",
    "version": 3
   },
   "file_extension": ".py",
   "mimetype": "text/x-python",
   "name": "python",
   "nbconvert_exporter": "python",
   "pygments_lexer": "ipython3",
   "version": "3.12.4"
  }
 },
 "nbformat": 4,
 "nbformat_minor": 5
}
