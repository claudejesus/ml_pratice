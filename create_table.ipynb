{
 "cells": [
  {
   "cell_type": "code",
   "execution_count": 6,
   "id": "456f2a53-3055-4eda-9316-8c65e13ae9c8",
   "metadata": {},
   "outputs": [],
   "source": [
    "import pandas as pd\n",
    "from sklearn.tree import DecisionTreeClassifier"
   ]
  },
  {
   "cell_type": "code",
   "execution_count": 5,
   "id": "3b06cd3c-0cf0-4a8b-b36a-fc75308d4897",
   "metadata": {},
   "outputs": [],
   "source": [
    "data = {\n",
    "    'Car': ['Toyota Aygo', 'Mitsubishi Space Star', 'Skoda Citigo', 'Fiat 500', \n",
    "            'Mini Cooper', 'VW Up!', 'Skoda Fabia'],\n",
    "    \n",
    "    'Model': ['Aygo', 'Space Star', 'Citigo', '500', 'Cooper', 'Up!', 'Fabia'],\n",
    "    'Volume': [1000, 1200, 1000, 900, 1500, 1000, 1400],\n",
    "    'Weight': [790, 1160, 929, 865, 1140, 929, 1109],\n",
    "    'CO2': [99, 95, 95, 90, 105, 105, 90]\n",
    "}\n",
    "\n",
    "table = pd.DataFrame(data)\n",
    " \n",
    "table.to_csv(r'C:\\Users\\CLAUDE\\Documents\\B-TECH\\ML\\car_data.csv', index=False)"
   ]
  },
  {
   "cell_type": "code",
   "execution_count": 7,
   "id": "aee40947-c3eb-4b2c-8ad1-274c87ae3171",
   "metadata": {},
   "outputs": [
    {
     "data": {
      "text/plain": [
       "<module 'pandas' from 'C:\\\\ProgramData\\\\anaconda3\\\\Lib\\\\site-packages\\\\pandas\\\\__init__.py'>"
      ]
     },
     "execution_count": 7,
     "metadata": {},
     "output_type": "execute_result"
    }
   ],
   "source": [
    "pd"
   ]
  },
  {
   "cell_type": "code",
   "execution_count": null,
   "id": "1d78e1ea-1b85-4bea-a05f-5467efbf695a",
   "metadata": {},
   "outputs": [],
   "source": []
  }
 ],
 "metadata": {
  "kernelspec": {
   "display_name": "Python 3 (ipykernel)",
   "language": "python",
   "name": "python3"
  },
  "language_info": {
   "codemirror_mode": {
    "name": "ipython",
    "version": 3
   },
   "file_extension": ".py",
   "mimetype": "text/x-python",
   "name": "python",
   "nbconvert_exporter": "python",
   "pygments_lexer": "ipython3",
   "version": "3.12.4"
  }
 },
 "nbformat": 4,
 "nbformat_minor": 5
}
